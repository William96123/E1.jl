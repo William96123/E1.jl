{
 "cells": [
  {
   "cell_type": "code",
   "execution_count": 6,
   "metadata": {},
   "outputs": [
    {
     "ename": "UndefVarError",
     "evalue": "UndefVarError: rowmatmul! not defined",
     "output_type": "error",
     "traceback": [
      "UndefVarError: rowmatmul! not defined\n",
      "\n",
      "Stacktrace:\n",
      " [1] top-level scope at d:\\Dropbox\\Files\\School Related\\UBC\\Winter 2022\\ECON622 Computational Economics\\Assignments\\Assignment IV\\E1.jl\\src\\Exercise-1.ipynb:8\n",
      " [2] include_string(::Function, ::Module, ::String, ::String) at .\\loading.jl:1091\n",
      " [3] #invokelatest#1 at .\\essentials.jl:710 [inlined]\n",
      " [4] invokelatest at .\\essentials.jl:709 [inlined]\n",
      " [5] (::VSCodeServer.var\"#146#147\"{VSCodeServer.NotebookRunCellArguments,String})() at c:\\Users\\duanb\\.vscode\\extensions\\julialang.language-julia-1.5.10\\scripts\\packages\\VSCodeServer\\src\\serve_notebook.jl:18\n",
      " [6] withpath(::VSCodeServer.var\"#146#147\"{VSCodeServer.NotebookRunCellArguments,String}, ::String) at c:\\Users\\duanb\\.vscode\\extensions\\julialang.language-julia-1.5.10\\scripts\\packages\\VSCodeServer\\src\\repl.jl:185\n",
      " [7] notebook_runcell_request(::VSCodeServer.JSONRPC.JSONRPCEndpoint{Base.PipeEndpoint,Base.PipeEndpoint}, ::VSCodeServer.NotebookRunCellArguments) at c:\\Users\\duanb\\.vscode\\extensions\\julialang.language-julia-1.5.10\\scripts\\packages\\VSCodeServer\\src\\serve_notebook.jl:14\n",
      " [8] dispatch_msg(::VSCodeServer.JSONRPC.JSONRPCEndpoint{Base.PipeEndpoint,Base.PipeEndpoint}, ::VSCodeServer.JSONRPC.MsgDispatcher, ::Dict{String,Any}) at c:\\Users\\duanb\\.vscode\\extensions\\julialang.language-julia-1.5.10\\scripts\\packages\\JSONRPC\\src\\typed.jl:67\n",
      " [9] serve_notebook(::String; crashreporting_pipename::String) at c:\\Users\\duanb\\.vscode\\extensions\\julialang.language-julia-1.5.10\\scripts\\packages\\VSCodeServer\\src\\serve_notebook.jl:94\n",
      " [10] top-level scope at c:\\Users\\duanb\\.vscode\\extensions\\julialang.language-julia-1.5.10\\scripts\\notebook\\notebook.jl:12\n",
      " [11] include(::Function, ::Module, ::String) at .\\Base.jl:380\n",
      " [12] include(::Module, ::String) at .\\Base.jl:368\n",
      " [13] exec_options(::Base.JLOptions) at .\\client.jl:296\n",
      " [14] _start() at .\\client.jl:506"
     ]
    }
   ],
   "source": [
    "include(\"E1.jl\")\n",
    "\n",
    "n = 10\n",
    "A = randn(n,n)\n",
    "B = randn(n,n)\n",
    "C = A*B\n",
    "Ctest = similar(C)\n",
    "rowmatmul!(Ctest, A, B)"
   ]
  },
  {
   "cell_type": "code",
   "execution_count": null,
   "metadata": {},
   "outputs": [],
   "source": []
  }
 ],
 "metadata": {
  "kernelspec": {
   "display_name": "Julia 1.5.3",
   "language": "julia",
   "name": "julia-1.5"
  },
  "language_info": {
   "file_extension": ".jl",
   "mimetype": "application/julia",
   "name": "julia",
   "version": "1.5.3"
  },
  "orig_nbformat": 4
 },
 "nbformat": 4,
 "nbformat_minor": 2
}
