{
 "cells": [
  {
   "cell_type": "code",
   "execution_count": 4,
   "metadata": {},
   "outputs": [
    {
     "name": "stdout",
     "output_type": "stream",
     "text": [
      "The mul!() function had an average runtime of 344.92251459854015 ns"
     ]
    },
    {
     "name": "stdout",
     "output_type": "stream",
     "text": [
      "\n",
      "The rowmatmul!() function had an average runtime of 1032.2520255813952 ns"
     ]
    },
    {
     "name": "stdout",
     "output_type": "stream",
     "text": [
      "\n",
      "The colmatmul!() function had an average runtime of 1049.4781959183674 ns\n"
     ]
    },
    {
     "name": "stdout",
     "output_type": "stream",
     "text": [
      "The rowmatmuldot!() function had an average runtime of 10202.761333333332 ns\n"
     ]
    },
    {
     "name": "stdout",
     "output_type": "stream",
     "text": [
      "The colmatmuldot!() function had an average runtime of 11198.707533333334 ns\n"
     ]
    }
   ],
   "source": [
    "include(\"E1.jl\")\n",
    "using BenchmarkTools\n",
    "using LinearAlgebra\n",
    "\n",
    "n = 10\n",
    "A = randn(n,n)\n",
    "B = randn(n,n)\n",
    "C = A*B\n",
    "Ctest = similar(C)\n",
    "\n",
    "println(\"The mul!() function had an average runtime of \", mean(@benchmark mul!(Ctest, A, B)).time, \" ns\")\n",
    "println(\"The rowmatmul!() function had an average runtime of \", mean(@benchmark Main.E1.rowmatmul!(Ctest, A, B)).time, \" ns\")\n",
    "println(\"The colmatmul!() function had an average runtime of \", mean(@benchmark Main.E1.colmatmul!(Ctest, A, B)).time, \" ns\")\n",
    "println(\"The rowmatmuldot!() function had an average runtime of \", mean(@benchmark Main.E1.rowmatmuldot!(Ctest, A, B)).time, \" ns\")\n",
    "println(\"The colmatmuldot!() function had an average runtime of \", mean(@benchmark Main.E1.colmatmuldot!(Ctest, A, B)).time, \" ns\")"
   ]
  },
  {
   "cell_type": "markdown",
   "metadata": {},
   "source": [
    "I put the readme file through grammarly and found some typo. I made a pull request that has now been merged (See pull request 157.)\n",
    "\n",
    "https://github.com/QuantEcon/lecture-julia.myst/pull/157.\n",
    "\n",
    "<img src=\"https://cdn.discordapp.com/attachments/888630022699647030/940814732930207784/unknown.png\"\n",
    "     alt=\"Markdown Monster icon\"\n",
    "     style=\"float: left; margin-right: 10px;\" />"
   ]
  },
  {
   "cell_type": "markdown",
   "metadata": {},
   "source": []
  }
 ],
 "metadata": {
  "kernelspec": {
   "display_name": "Julia 1.5.3",
   "language": "julia",
   "name": "julia-1.5"
  },
  "language_info": {
   "file_extension": ".jl",
   "mimetype": "application/julia",
   "name": "julia",
   "version": "1.5.3"
  },
  "orig_nbformat": 4
 },
 "nbformat": 4,
 "nbformat_minor": 2
}
