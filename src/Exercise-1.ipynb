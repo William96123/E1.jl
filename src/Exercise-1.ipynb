{
 "cells": [
  {
   "cell_type": "code",
   "execution_count": 45,
   "metadata": {},
   "outputs": [
    {
     "name": "stdout",
     "output_type": "stream",
     "text": [
      "The mul!() function had an average runtime of 305.7179189285714 ns\n"
     ]
    },
    {
     "name": "stderr",
     "output_type": "stream",
     "text": [
      "WARNING: replacing module E1.\n"
     ]
    },
    {
     "name": "stdout",
     "output_type": "stream",
     "text": [
      "The rowmatmul!() function had an average runtime of 956.2322292682927 ns"
     ]
    },
    {
     "name": "stdout",
     "output_type": "stream",
     "text": [
      "\n",
      "The colmatmul!() function had an average runtime of 949.3311063492064 ns\n"
     ]
    },
    {
     "name": "stdout",
     "output_type": "stream",
     "text": [
      "The rowmatmuldot!() function had an average runtime of 9676.4649 ns"
     ]
    },
    {
     "name": "stdout",
     "output_type": "stream",
     "text": [
      "\n",
      "The colmatmuldot!() function had an average runtime of 12565.086033333333 ns\n"
     ]
    }
   ],
   "source": [
    "include(\"E1.jl\")\n",
    "using BenchmarkTools\n",
    "using LinearAlgebra\n",
    "\n",
    "n = 10\n",
    "A = randn(n,n)\n",
    "B = randn(n,n)\n",
    "C = A*B\n",
    "Ctest = similar(C)\n",
    "\n",
    "println(\"The mul!() function had an average runtime of \", mean(@benchmark mul!(Ctest, A, B)).time, \" ns\")\n",
    "println(\"The rowmatmul!() function had an average runtime of \", mean(@benchmark Main.E1.rowmatmul!(Ctest, A, B)).time, \" ns\")\n",
    "println(\"The colmatmul!() function had an average runtime of \", mean(@benchmark Main.E1.colmatmul!(Ctest, A, B)).time, \" ns\")\n",
    "println(\"The rowmatmuldot!() function had an average runtime of \", mean(@benchmark Main.E1.rowmatmuldot!(Ctest, A, B)).time, \" ns\")\n",
    "println(\"The colmatmuldot!() function had an average runtime of \", mean(@benchmark Main.E1.colmatmuldot!(Ctest, A, B)).time, \" ns\")"
   ]
  }
 ],
 "metadata": {
  "kernelspec": {
   "display_name": "Julia 1.5.3",
   "language": "julia",
   "name": "julia-1.5"
  },
  "language_info": {
   "file_extension": ".jl",
   "mimetype": "application/julia",
   "name": "julia",
   "version": "1.5.3"
  },
  "orig_nbformat": 4
 },
 "nbformat": 4,
 "nbformat_minor": 2
}
